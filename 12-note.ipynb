{
 "cells": [
  {
   "cell_type": "code",
   "execution_count": 1,
   "metadata": {
    "collapsed": false
   },
   "outputs": [
    {
     "data": {
      "text/plain": [
       "2"
      ]
     },
     "execution_count": 1,
     "metadata": {},
     "output_type": "execute_result"
    }
   ],
   "source": [
    "1+1"
   ]
  },
  {
   "cell_type": "code",
   "execution_count": null,
   "metadata": {
    "collapsed": true
   },
   "outputs": [],
   "source": [
    "import turtle\n",
    "t=turtle.Turtle()\n",
    "t.position()\n",
    "\n",
    "t.home()\n",
    "t.clear()\n",
    "\n",
    "for x in range(4):\n",
    "  t.forward(100)\n",
    "  t.left(90)\n",
    "  \n",
    "\n",
    "turtle.clear()  \n",
    "\n",
    "exit()\n",
    "\n",
    "import turtle\n",
    "turtle = turtle.Turtle()\n",
    "turtle.light(90)\n",
    "\n",
    "for x in range(4):\n",
    "  turtle.forward(100)\n",
    "  turtle.left(90)\n",
    " \n",
    " turtle.home()\n",
    " turtle.clear()\n",
    " \n",
    " for x in range(4):\n",
    "   turtle.up()\n",
    "   turtle.forward(20)\n",
    "   turtle.down()\n",
    "   for x in range(4):\n",
    "     turtle.forward(100)\n",
    "     turtle.left(90)\n",
    "   turtle.left(-90)\n",
    "   \n",
    "print('hello')"
   ]
  }
 ],
 "metadata": {
  "kernelspec": {
   "display_name": "Python 3",
   "language": "python",
   "name": "python3"
  },
  "language_info": {
   "codemirror_mode": {
    "name": "ipython",
    "version": 3
   },
   "file_extension": ".py",
   "mimetype": "text/x-python",
   "name": "python",
   "nbconvert_exporter": "python",
   "pygments_lexer": "ipython3",
   "version": "3.6.0"
  }
 },
 "nbformat": 4,
 "nbformat_minor": 2
}
