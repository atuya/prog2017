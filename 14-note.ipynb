{
 "cells": [
  {
   "cell_type": "code",
   "execution_count": null,
   "metadata": {
    "collapsed": true
   },
   "outputs": [],
   "source": [
    "python\n",
    "\n",
    "import turtle\n",
    "turtle = turtle.Turtle()\n",
    "\n",
    "def rect(x,y,a):\n",
    "  turtle.up()\n",
    "  turtle.home()\n",
    "  turtle.forward(x)\n",
    "  turtle.left(90)\n",
    "  turtle.forward(y)\n",
    "  turtle.down()\n",
    "  for i in range(4):\n",
    "    turtle.forward(a)\n",
    "    turtleleft(-90)\n",
    "#空行\n",
    "\n",
    "turtle.clear()\n",
    "rect(10,10,100)\n",
    "rect(10,-110,100)\n",
    "rect()\n",
    "aDice = cise()#クラスをもとにオブジェクトを作る。\n",
    "a Dise.shoot()#オブジェクトを作る\n",
    "\n",
    "adise.face_num = 1000\n",
    "adise.dhoot()\n",
    "\n",
    "bdise = dice()\n",
    "ｂdice.shoot()"
   ]
  },
  {
   "cell_type": "code",
   "execution_count": null,
   "metadata": {
    "collapsed": true
   },
   "outputs": [],
   "source": [
    "import sys\n",
    "\n",
    "for line in sys .stdin:\n",
    "  print('((('+ line.strip() +')))')"
   ]
  },
  {
   "cell_type": "markdown",
   "metadata": {},
   "source": [
    "オブジェクト\n",
    "複数の性質と複数の関数をひとまとめにしたもの\n",
    "\n",
    "クラス：オブジェクトの設計図\n",
    "　　－オブジェクト：データと操作をまとめたもの\n",
    "\n",
    "クラス派生：クラスを基に，別クラスを作ること．新しいクラスは，元のクラスの性質を「継承」する\n",
    "\n",
    "cd \\cit>python num.py>result.txt\n",
    "標準出力：画面に出力\n",
    "－「＞」を使ってファイルから入力\n",
    "標準入力：キーボードから入力\n",
    "－「＜」を使ってファイルから入力\n",
    "\n"
   ]
  }
 ],
 "metadata": {
  "kernelspec": {
   "display_name": "Python 3",
   "language": "python",
   "name": "python3"
  },
  "language_info": {
   "codemirror_mode": {
    "name": "ipython",
    "version": 3
   },
   "file_extension": ".py",
   "mimetype": "text/x-python",
   "name": "python",
   "nbconvert_exporter": "python",
   "pygments_lexer": "ipython3",
   "version": "3.6.0"
  }
 },
 "nbformat": 4,
 "nbformat_minor": 2
}
